{
 "cells": [
  {
   "cell_type": "code",
   "execution_count": 65,
   "metadata": {},
   "outputs": [],
   "source": [
    "import matplotlib.pyplot as plt\n",
    "import pandas as pd\n",
    "import scipy.stats as st\n",
    "from scipy.stats import linregress\n",
    "import numpy as np\n",
    "import sklearn.datasets as dta\n",
    "from sklearn import datasets\n",
    "import requests\n",
    "import os"
   ]
  },
  {
   "cell_type": "code",
   "execution_count": 66,
   "metadata": {},
   "outputs": [],
   "source": [
    "Chicago_Building_Benchmark = \"Data\\\\Chicago_Energy_Benchmarking.csv\"\n",
    "Chicago_Population = \"Data\\\\Chicago_Population_Counts_2018.csv\"\n",
    "Energy_Usage = \"Data\\\\Energy_Usage_2010.csv\"\n",
    "Illinois_Pop = \"Data\\\\illinois_county_data.csv\""
   ]
  },
  {
   "cell_type": "code",
   "execution_count": 67,
   "metadata": {},
   "outputs": [
    {
     "data": {
      "text/plain": [
       "'Data\\\\Chicago_Population_Counts_2018.csv'"
      ]
     },
     "execution_count": 67,
     "metadata": {},
     "output_type": "execute_result"
    }
   ],
   "source": [
    "Chicago_Population"
   ]
  },
  {
   "cell_type": "code",
   "execution_count": 68,
   "metadata": {},
   "outputs": [],
   "source": [
    "building_benchmark_df = pd.read_csv(Chicago_Building_Benchmark)\n",
    "chicago_pop_df = pd.read_csv(Chicago_Population)\n",
    "energy_usage_df = pd.read_csv(Energy_Usage)\n",
    "illinois_pop_df = pd.read_csv(Illinois_Pop)"
   ]
  },
  {
   "cell_type": "code",
   "execution_count": 69,
   "metadata": {},
   "outputs": [
    {
     "data": {
      "text/html": [
       "<div>\n",
       "<style scoped>\n",
       "    .dataframe tbody tr th:only-of-type {\n",
       "        vertical-align: middle;\n",
       "    }\n",
       "\n",
       "    .dataframe tbody tr th {\n",
       "        vertical-align: top;\n",
       "    }\n",
       "\n",
       "    .dataframe thead th {\n",
       "        text-align: right;\n",
       "    }\n",
       "</style>\n",
       "<table border=\"1\" class=\"dataframe\">\n",
       "  <thead>\n",
       "    <tr style=\"text-align: right;\">\n",
       "      <th></th>\n",
       "      <th>COMMUNITY AREA NAME</th>\n",
       "      <th>CENSUS BLOCK</th>\n",
       "      <th>BUILDING TYPE</th>\n",
       "      <th>BUILDING_SUBTYPE</th>\n",
       "      <th>KWH JANUARY 2010</th>\n",
       "      <th>KWH FEBRUARY 2010</th>\n",
       "      <th>KWH MARCH 2010</th>\n",
       "      <th>KWH APRIL 2010</th>\n",
       "      <th>KWH MAY 2010</th>\n",
       "      <th>KWH JUNE 2010</th>\n",
       "      <th>...</th>\n",
       "      <th>TOTAL POPULATION</th>\n",
       "      <th>TOTAL UNITS</th>\n",
       "      <th>AVERAGE STORIES</th>\n",
       "      <th>AVERAGE BUILDING AGE</th>\n",
       "      <th>AVERAGE HOUSESIZE</th>\n",
       "      <th>OCCUPIED UNITS</th>\n",
       "      <th>OCCUPIED UNITS PERCENTAGE</th>\n",
       "      <th>RENTER-OCCUPIED HOUSING UNITS</th>\n",
       "      <th>RENTER-OCCUPIED HOUSING PERCENTAGE</th>\n",
       "      <th>OCCUPIED HOUSING UNITS</th>\n",
       "    </tr>\n",
       "  </thead>\n",
       "  <tbody>\n",
       "    <tr>\n",
       "      <th>0</th>\n",
       "      <td>Archer Heights</td>\n",
       "      <td>1.703160e+14</td>\n",
       "      <td>Residential</td>\n",
       "      <td>Multi &lt; 7</td>\n",
       "      <td>0.0</td>\n",
       "      <td>0.0</td>\n",
       "      <td>0.0</td>\n",
       "      <td>0.0</td>\n",
       "      <td>0.0</td>\n",
       "      <td>0.0</td>\n",
       "      <td>...</td>\n",
       "      <td>89.0</td>\n",
       "      <td>24.0</td>\n",
       "      <td>2.0</td>\n",
       "      <td>71.33</td>\n",
       "      <td>3.87</td>\n",
       "      <td>23.0</td>\n",
       "      <td>0.9582</td>\n",
       "      <td>9.0</td>\n",
       "      <td>0.3910</td>\n",
       "      <td>23.0</td>\n",
       "    </tr>\n",
       "    <tr>\n",
       "      <th>1</th>\n",
       "      <td>Ashburn</td>\n",
       "      <td>1.703170e+14</td>\n",
       "      <td>Residential</td>\n",
       "      <td>Multi 7+</td>\n",
       "      <td>7334.0</td>\n",
       "      <td>7741.0</td>\n",
       "      <td>4214.0</td>\n",
       "      <td>4284.0</td>\n",
       "      <td>2518.0</td>\n",
       "      <td>4273.0</td>\n",
       "      <td>...</td>\n",
       "      <td>112.0</td>\n",
       "      <td>67.0</td>\n",
       "      <td>2.0</td>\n",
       "      <td>41.00</td>\n",
       "      <td>1.81</td>\n",
       "      <td>62.0</td>\n",
       "      <td>0.9254</td>\n",
       "      <td>50.0</td>\n",
       "      <td>0.8059</td>\n",
       "      <td>62.0</td>\n",
       "    </tr>\n",
       "    <tr>\n",
       "      <th>2</th>\n",
       "      <td>Auburn Gresham</td>\n",
       "      <td>1.703170e+14</td>\n",
       "      <td>Commercial</td>\n",
       "      <td>Multi &lt; 7</td>\n",
       "      <td>0.0</td>\n",
       "      <td>0.0</td>\n",
       "      <td>0.0</td>\n",
       "      <td>0.0</td>\n",
       "      <td>0.0</td>\n",
       "      <td>0.0</td>\n",
       "      <td>...</td>\n",
       "      <td>102.0</td>\n",
       "      <td>48.0</td>\n",
       "      <td>3.0</td>\n",
       "      <td>86.00</td>\n",
       "      <td>3.00</td>\n",
       "      <td>34.0</td>\n",
       "      <td>0.7082</td>\n",
       "      <td>23.0</td>\n",
       "      <td>0.6759</td>\n",
       "      <td>34.0</td>\n",
       "    </tr>\n",
       "    <tr>\n",
       "      <th>3</th>\n",
       "      <td>Austin</td>\n",
       "      <td>1.703130e+14</td>\n",
       "      <td>Commercial</td>\n",
       "      <td>Multi &lt; 7</td>\n",
       "      <td>0.0</td>\n",
       "      <td>0.0</td>\n",
       "      <td>0.0</td>\n",
       "      <td>0.0</td>\n",
       "      <td>0.0</td>\n",
       "      <td>0.0</td>\n",
       "      <td>...</td>\n",
       "      <td>121.0</td>\n",
       "      <td>56.0</td>\n",
       "      <td>2.0</td>\n",
       "      <td>84.00</td>\n",
       "      <td>2.95</td>\n",
       "      <td>41.0</td>\n",
       "      <td>0.7321</td>\n",
       "      <td>32.0</td>\n",
       "      <td>0.7800</td>\n",
       "      <td>41.0</td>\n",
       "    </tr>\n",
       "    <tr>\n",
       "      <th>4</th>\n",
       "      <td>Austin</td>\n",
       "      <td>1.703130e+14</td>\n",
       "      <td>Commercial</td>\n",
       "      <td>Multi &lt; 7</td>\n",
       "      <td>0.0</td>\n",
       "      <td>0.0</td>\n",
       "      <td>0.0</td>\n",
       "      <td>0.0</td>\n",
       "      <td>0.0</td>\n",
       "      <td>0.0</td>\n",
       "      <td>...</td>\n",
       "      <td>62.0</td>\n",
       "      <td>23.0</td>\n",
       "      <td>2.0</td>\n",
       "      <td>85.00</td>\n",
       "      <td>3.26</td>\n",
       "      <td>19.0</td>\n",
       "      <td>0.8261</td>\n",
       "      <td>11.0</td>\n",
       "      <td>0.5790</td>\n",
       "      <td>19.0</td>\n",
       "    </tr>\n",
       "  </tbody>\n",
       "</table>\n",
       "<p>5 rows × 73 columns</p>\n",
       "</div>"
      ],
      "text/plain": [
       "  COMMUNITY AREA NAME  CENSUS BLOCK BUILDING TYPE BUILDING_SUBTYPE  \\\n",
       "0      Archer Heights  1.703160e+14   Residential        Multi < 7   \n",
       "1             Ashburn  1.703170e+14   Residential         Multi 7+   \n",
       "2      Auburn Gresham  1.703170e+14    Commercial        Multi < 7   \n",
       "3              Austin  1.703130e+14    Commercial        Multi < 7   \n",
       "4              Austin  1.703130e+14    Commercial        Multi < 7   \n",
       "\n",
       "   KWH JANUARY 2010  KWH FEBRUARY 2010  KWH MARCH 2010  KWH APRIL 2010  \\\n",
       "0               0.0                0.0             0.0             0.0   \n",
       "1            7334.0             7741.0          4214.0          4284.0   \n",
       "2               0.0                0.0             0.0             0.0   \n",
       "3               0.0                0.0             0.0             0.0   \n",
       "4               0.0                0.0             0.0             0.0   \n",
       "\n",
       "   KWH MAY 2010  KWH JUNE 2010  ...  TOTAL POPULATION  TOTAL UNITS  \\\n",
       "0           0.0            0.0  ...              89.0         24.0   \n",
       "1        2518.0         4273.0  ...             112.0         67.0   \n",
       "2           0.0            0.0  ...             102.0         48.0   \n",
       "3           0.0            0.0  ...             121.0         56.0   \n",
       "4           0.0            0.0  ...              62.0         23.0   \n",
       "\n",
       "   AVERAGE STORIES  AVERAGE BUILDING AGE  AVERAGE HOUSESIZE  OCCUPIED UNITS  \\\n",
       "0              2.0                 71.33               3.87            23.0   \n",
       "1              2.0                 41.00               1.81            62.0   \n",
       "2              3.0                 86.00               3.00            34.0   \n",
       "3              2.0                 84.00               2.95            41.0   \n",
       "4              2.0                 85.00               3.26            19.0   \n",
       "\n",
       "   OCCUPIED UNITS PERCENTAGE RENTER-OCCUPIED HOUSING UNITS  \\\n",
       "0                     0.9582                           9.0   \n",
       "1                     0.9254                          50.0   \n",
       "2                     0.7082                          23.0   \n",
       "3                     0.7321                          32.0   \n",
       "4                     0.8261                          11.0   \n",
       "\n",
       "   RENTER-OCCUPIED HOUSING PERCENTAGE  OCCUPIED HOUSING UNITS  \n",
       "0                              0.3910                    23.0  \n",
       "1                              0.8059                    62.0  \n",
       "2                              0.6759                    34.0  \n",
       "3                              0.7800                    41.0  \n",
       "4                              0.5790                    19.0  \n",
       "\n",
       "[5 rows x 73 columns]"
      ]
     },
     "execution_count": 69,
     "metadata": {},
     "output_type": "execute_result"
    }
   ],
   "source": [
    "energy_usage_df.fillna(0, inplace=True)\n",
    "energy_usage_df.head()"
   ]
  },
  {
   "cell_type": "code",
   "execution_count": 70,
   "metadata": {},
   "outputs": [
    {
     "data": {
      "text/plain": [
       "COMMUNITY AREA NAME                   67051\n",
       "CENSUS BLOCK                          67051\n",
       "BUILDING TYPE                         67051\n",
       "BUILDING_SUBTYPE                      67051\n",
       "KWH JANUARY 2010                      67051\n",
       "                                      ...  \n",
       "OCCUPIED UNITS                        67051\n",
       "OCCUPIED UNITS PERCENTAGE             67051\n",
       "RENTER-OCCUPIED HOUSING UNITS         67051\n",
       "RENTER-OCCUPIED HOUSING PERCENTAGE    67051\n",
       "OCCUPIED HOUSING UNITS                67051\n",
       "Length: 73, dtype: int64"
      ]
     },
     "execution_count": 70,
     "metadata": {},
     "output_type": "execute_result"
    }
   ],
   "source": [
    "energy_usage_df.count()"
   ]
  },
  {
   "cell_type": "code",
   "execution_count": 71,
   "metadata": {},
   "outputs": [],
   "source": [
    "winter_kwh = energy_usage_df['KWH JANUARY 2010'] + energy_usage_df['KWH FEBRUARY 2010'] + energy_usage_df['KWH DECEMBER 2010']\n",
    "spring_kwh = energy_usage_df['KWH MARCH 2010'] + energy_usage_df['KWH APRIL 2010'] + energy_usage_df['KWH MAY 2010']\n",
    "summer_kwh = energy_usage_df['KWH JUNE 2010'] + energy_usage_df['KWH JULY 2010'] + energy_usage_df['KWH AUGUST 2010']\n",
    "fall_kwh = energy_usage_df['KWH SEPTEMBER 2010'] + energy_usage_df['KWH OCTOBER 2010'] + energy_usage_df['KWH NOVEMBER 2010']\n",
    "energy_usage_df[\"spring_electricity\"] = spring_kwh\n",
    "energy_usage_df[\"winter_electricity\"] = winter_kwh\n",
    "energy_usage_df[\"summer_electricity\"] = summer_kwh\n",
    "energy_usage_df[\"fall_electricity\"] = fall_kwh\n",
    "winter_therm = energy_usage_df['THERM JANUARY 2010'] + energy_usage_df['THERM FEBRUARY 2010'] + energy_usage_df['THERM DECEMBER 2010']\n",
    "spring_therm = energy_usage_df['THERM MARCH 2010'] + energy_usage_df['TERM APRIL 2010'] + energy_usage_df['THERM MAY 2010']\n",
    "summer_therm = energy_usage_df['THERM JUNE 2010'] + energy_usage_df['THERM JULY 2010'] + energy_usage_df['THERM AUGUST 2010']\n",
    "fall_therm = energy_usage_df['THERM SEPTEMBER 2010'] + energy_usage_df['THERM OCTOBER 2010'] + energy_usage_df['THERM NOVEMBER 2010']\n",
    "energy_usage_df[\"spring_gas\"] = spring_therm\n",
    "energy_usage_df[\"winter_gas\"] = winter_therm\n",
    "energy_usage_df[\"summer_gas\"] = summer_therm\n",
    "energy_usage_df[\"fall_gas\"] = fall_therm"
   ]
  },
  {
   "cell_type": "code",
   "execution_count": 72,
   "metadata": {},
   "outputs": [
    {
     "data": {
      "text/plain": [
       "3899397401.0"
      ]
     },
     "execution_count": 72,
     "metadata": {},
     "output_type": "execute_result"
    }
   ],
   "source": [
    "energy_usage_df[\"winter_electricity\"].sum()"
   ]
  },
  {
   "cell_type": "code",
   "execution_count": 73,
   "metadata": {},
   "outputs": [],
   "source": [
    "np.warnings.filterwarnings('ignore')"
   ]
  },
  {
   "cell_type": "code",
   "execution_count": 74,
   "metadata": {},
   "outputs": [
    {
     "data": {
      "image/png": "[encoded data removed]",
      "text/plain": [
       "<Figure size 432x288 with 1 Axes>"
      ]
     },
     "metadata": {
      "needs_background": "light"
     },
     "output_type": "display_data"
    }
   ],
   "source": [
    "compare_df = energy_usage_df[(energy_usage_df[\"spring_electricity\"] > 0) & (energy_usage_df[\"summer_electricity\"] > 0) & (energy_usage_df[\"fall_electricity\"] > 0) & (energy_usage_df[\"winter_electricity\"] > 0) & (energy_usage_df[\"spring_gas\"] > 0) & (energy_usage_df[\"summer_gas\"] > 0) & (energy_usage_df[\"fall_gas\"] > 0) & (energy_usage_df[\"winter_gas\"] > 0)]\n",
    "\n",
    "data = [compare_df[\"spring_electricity\"].mean(), compare_df[\"summer_electricity\"].mean(), compare_df[\"fall_electricity\"].mean(), compare_df[\"winter_electricity\"].mean()]\n",
    "seasons = ['Spring', 'Summer', 'Fall', 'Winter']\n",
    "x_axis = seasons\n",
    "plt.labels = seasons\n",
    "plt.xlabel =\"Season\"\n",
    "plt.ylabel = \"Electricity Usage\"\n",
    "plt.bar(x_axis, data)\n",
    "plt.title('Electricity Usage by Season Chicago 2010')\n",
    "\n",
    "plt.show()\n",
    "#compare_df[\"summer_electricity\"].max()"
   ]
  },
  {
   "cell_type": "code",
   "execution_count": 75,
   "metadata": {},
   "outputs": [
    {
     "data": {
      "text/plain": [
       "Text(0.5, 1.0, 'Gas Usage by Season Chicago 2010')"
      ]
     },
     "execution_count": 75,
     "metadata": {},
     "output_type": "execute_result"
    },
    {
     "data": {
      "image/png": "[encoded data removed]",
      "text/plain": [
       "<Figure size 432x288 with 1 Axes>"
      ]
     },
     "metadata": {
      "needs_background": "light"
     },
     "output_type": "display_data"
    }
   ],
   "source": [
    "data = [compare_df[\"spring_gas\"].mean(), compare_df[\"summer_gas\"].mean(), compare_df[\"fall_gas\"].mean(), compare_df[\"winter_gas\"].mean()]\n",
    "seasons = ['Spring', 'Summer', 'Fall', 'Winter']\n",
    "x_axis = seasons\n",
    "plt.labels = seasons\n",
    "plt.xlabel =\"Season\"\n",
    "plt.ylabel = \"Gas Usage\"\n",
    "plt.bar(x_axis, data)\n",
    "plt.title('Gas Usage by Season Chicago 2010')"
   ]
  },
  {
   "cell_type": "code",
   "execution_count": 76,
   "metadata": {},
   "outputs": [
    {
     "data": {
      "text/html": [
       "<div>\n",
       "<style scoped>\n",
       "    .dataframe tbody tr th:only-of-type {\n",
       "        vertical-align: middle;\n",
       "    }\n",
       "\n",
       "    .dataframe tbody tr th {\n",
       "        vertical-align: top;\n",
       "    }\n",
       "\n",
       "    .dataframe thead th {\n",
       "        text-align: right;\n",
       "    }\n",
       "</style>\n",
       "<table border=\"1\" class=\"dataframe\">\n",
       "  <thead>\n",
       "    <tr style=\"text-align: right;\">\n",
       "      <th></th>\n",
       "      <th>Geography Type</th>\n",
       "      <th>Year</th>\n",
       "      <th>Geography</th>\n",
       "      <th>COMMUNITY AREA NAME</th>\n",
       "      <th>Population - Total</th>\n",
       "    </tr>\n",
       "  </thead>\n",
       "  <tbody>\n",
       "    <tr>\n",
       "      <th>0</th>\n",
       "      <td>Citywide</td>\n",
       "      <td>2018</td>\n",
       "      <td>Chicago</td>\n",
       "      <td>Chicago</td>\n",
       "      <td>2705988</td>\n",
       "    </tr>\n",
       "    <tr>\n",
       "      <th>1</th>\n",
       "      <td>ZIP Code</td>\n",
       "      <td>2018</td>\n",
       "      <td>60601</td>\n",
       "      <td>The Loop</td>\n",
       "      <td>14675</td>\n",
       "    </tr>\n",
       "    <tr>\n",
       "      <th>2</th>\n",
       "      <td>ZIP Code</td>\n",
       "      <td>2018</td>\n",
       "      <td>60602</td>\n",
       "      <td>The Loop</td>\n",
       "      <td>1244</td>\n",
       "    </tr>\n",
       "    <tr>\n",
       "      <th>3</th>\n",
       "      <td>ZIP Code</td>\n",
       "      <td>2018</td>\n",
       "      <td>60603</td>\n",
       "      <td>The Loop</td>\n",
       "      <td>1174</td>\n",
       "    </tr>\n",
       "    <tr>\n",
       "      <th>4</th>\n",
       "      <td>ZIP Code</td>\n",
       "      <td>2018</td>\n",
       "      <td>60604</td>\n",
       "      <td>The Loop</td>\n",
       "      <td>782</td>\n",
       "    </tr>\n",
       "  </tbody>\n",
       "</table>\n",
       "</div>"
      ],
      "text/plain": [
       "  Geography Type  Year Geography COMMUNITY AREA NAME  Population - Total\n",
       "0       Citywide  2018   Chicago             Chicago             2705988\n",
       "1       ZIP Code  2018     60601            The Loop               14675\n",
       "2       ZIP Code  2018     60602            The Loop                1244\n",
       "3       ZIP Code  2018     60603            The Loop                1174\n",
       "4       ZIP Code  2018     60604            The Loop                 782"
      ]
     },
     "execution_count": 76,
     "metadata": {},
     "output_type": "execute_result"
    }
   ],
   "source": [
    "chicago_pop_df.head()"
   ]
  },
  {
   "cell_type": "code",
   "execution_count": 77,
   "metadata": {},
   "outputs": [
    {
     "data": {
      "text/html": [
       "<div>\n",
       "<style scoped>\n",
       "    .dataframe tbody tr th:only-of-type {\n",
       "        vertical-align: middle;\n",
       "    }\n",
       "\n",
       "    .dataframe tbody tr th {\n",
       "        vertical-align: top;\n",
       "    }\n",
       "\n",
       "    .dataframe thead th {\n",
       "        text-align: right;\n",
       "    }\n",
       "</style>\n",
       "<table border=\"1\" class=\"dataframe\">\n",
       "  <thead>\n",
       "    <tr style=\"text-align: right;\">\n",
       "      <th></th>\n",
       "      <th>COMMUNITY AREA NAME</th>\n",
       "      <th>CENSUS BLOCK</th>\n",
       "      <th>BUILDING TYPE</th>\n",
       "      <th>BUILDING_SUBTYPE</th>\n",
       "      <th>KWH JANUARY 2010</th>\n",
       "      <th>KWH FEBRUARY 2010</th>\n",
       "      <th>KWH MARCH 2010</th>\n",
       "      <th>KWH APRIL 2010</th>\n",
       "      <th>KWH MAY 2010</th>\n",
       "      <th>KWH JUNE 2010</th>\n",
       "      <th>...</th>\n",
       "      <th>spring_electricity</th>\n",
       "      <th>winter_electricity</th>\n",
       "      <th>summer_electricity</th>\n",
       "      <th>fall_electricity</th>\n",
       "      <th>spring_gas</th>\n",
       "      <th>winter_gas</th>\n",
       "      <th>summer_gas</th>\n",
       "      <th>fall_gas</th>\n",
       "      <th>Year</th>\n",
       "      <th>Population - Total</th>\n",
       "    </tr>\n",
       "  </thead>\n",
       "  <tbody>\n",
       "    <tr>\n",
       "      <th>0</th>\n",
       "      <td>Lakeview</td>\n",
       "      <td>1.703110e+14</td>\n",
       "      <td>Residential</td>\n",
       "      <td>Multi 7+</td>\n",
       "      <td>1526.0</td>\n",
       "      <td>1665.0</td>\n",
       "      <td>1824.0</td>\n",
       "      <td>1579.0</td>\n",
       "      <td>2916.0</td>\n",
       "      <td>4211.0</td>\n",
       "      <td>...</td>\n",
       "      <td>6319.0</td>\n",
       "      <td>8863.0</td>\n",
       "      <td>15969.0</td>\n",
       "      <td>10511.0</td>\n",
       "      <td>4575.0</td>\n",
       "      <td>7731.0</td>\n",
       "      <td>1040.0</td>\n",
       "      <td>1451.0</td>\n",
       "      <td>2018.0</td>\n",
       "      <td>70052.0</td>\n",
       "    </tr>\n",
       "    <tr>\n",
       "      <th>1</th>\n",
       "      <td>Lincoln Park</td>\n",
       "      <td>1.703110e+14</td>\n",
       "      <td>Residential</td>\n",
       "      <td>Multi 7+</td>\n",
       "      <td>242.0</td>\n",
       "      <td>136.0</td>\n",
       "      <td>134.0</td>\n",
       "      <td>134.0</td>\n",
       "      <td>144.0</td>\n",
       "      <td>122.0</td>\n",
       "      <td>...</td>\n",
       "      <td>412.0</td>\n",
       "      <td>2998.0</td>\n",
       "      <td>5175.0</td>\n",
       "      <td>7080.0</td>\n",
       "      <td>1149.0</td>\n",
       "      <td>2834.0</td>\n",
       "      <td>321.0</td>\n",
       "      <td>476.0</td>\n",
       "      <td>4036.0</td>\n",
       "      <td>110327.0</td>\n",
       "    </tr>\n",
       "    <tr>\n",
       "      <th>2</th>\n",
       "      <td>Logan Square</td>\n",
       "      <td>1.703180e+14</td>\n",
       "      <td>Commercial</td>\n",
       "      <td>Commercial</td>\n",
       "      <td>6171.0</td>\n",
       "      <td>3593.0</td>\n",
       "      <td>3812.0</td>\n",
       "      <td>4376.0</td>\n",
       "      <td>4431.0</td>\n",
       "      <td>5945.0</td>\n",
       "      <td>...</td>\n",
       "      <td>12619.0</td>\n",
       "      <td>17187.0</td>\n",
       "      <td>25692.0</td>\n",
       "      <td>12976.0</td>\n",
       "      <td>1991.0</td>\n",
       "      <td>2421.0</td>\n",
       "      <td>278.0</td>\n",
       "      <td>797.0</td>\n",
       "      <td>4036.0</td>\n",
       "      <td>140302.0</td>\n",
       "    </tr>\n",
       "    <tr>\n",
       "      <th>3</th>\n",
       "      <td>Near North Side</td>\n",
       "      <td>1.703110e+14</td>\n",
       "      <td>Residential</td>\n",
       "      <td>Multi &lt; 7</td>\n",
       "      <td>1959.0</td>\n",
       "      <td>2039.0</td>\n",
       "      <td>1647.0</td>\n",
       "      <td>1504.0</td>\n",
       "      <td>1790.0</td>\n",
       "      <td>3340.0</td>\n",
       "      <td>...</td>\n",
       "      <td>4941.0</td>\n",
       "      <td>7534.0</td>\n",
       "      <td>12084.0</td>\n",
       "      <td>7870.0</td>\n",
       "      <td>1127.0</td>\n",
       "      <td>2711.0</td>\n",
       "      <td>173.0</td>\n",
       "      <td>290.0</td>\n",
       "      <td>4036.0</td>\n",
       "      <td>51561.0</td>\n",
       "    </tr>\n",
       "    <tr>\n",
       "      <th>4</th>\n",
       "      <td>Roseland</td>\n",
       "      <td>1.703150e+14</td>\n",
       "      <td>Commercial</td>\n",
       "      <td>Commercial</td>\n",
       "      <td>4446.0</td>\n",
       "      <td>4657.0</td>\n",
       "      <td>4905.0</td>\n",
       "      <td>5637.0</td>\n",
       "      <td>8518.0</td>\n",
       "      <td>10478.0</td>\n",
       "      <td>...</td>\n",
       "      <td>19060.0</td>\n",
       "      <td>24025.0</td>\n",
       "      <td>18561.0</td>\n",
       "      <td>30892.0</td>\n",
       "      <td>6734.0</td>\n",
       "      <td>10053.0</td>\n",
       "      <td>4974.0</td>\n",
       "      <td>4564.0</td>\n",
       "      <td>2018.0</td>\n",
       "      <td>66724.0</td>\n",
       "    </tr>\n",
       "  </tbody>\n",
       "</table>\n",
       "<p>5 rows × 83 columns</p>\n",
       "</div>"
      ],
      "text/plain": [
       "  COMMUNITY AREA NAME  CENSUS BLOCK BUILDING TYPE BUILDING_SUBTYPE  \\\n",
       "0            Lakeview  1.703110e+14   Residential         Multi 7+   \n",
       "1        Lincoln Park  1.703110e+14   Residential         Multi 7+   \n",
       "2        Logan Square  1.703180e+14    Commercial       Commercial   \n",
       "3     Near North Side  1.703110e+14   Residential        Multi < 7   \n",
       "4            Roseland  1.703150e+14    Commercial       Commercial   \n",
       "\n",
       "   KWH JANUARY 2010  KWH FEBRUARY 2010  KWH MARCH 2010  KWH APRIL 2010  \\\n",
       "0            1526.0             1665.0          1824.0          1579.0   \n",
       "1             242.0              136.0           134.0           134.0   \n",
       "2            6171.0             3593.0          3812.0          4376.0   \n",
       "3            1959.0             2039.0          1647.0          1504.0   \n",
       "4            4446.0             4657.0          4905.0          5637.0   \n",
       "\n",
       "   KWH MAY 2010  KWH JUNE 2010  ...  spring_electricity  winter_electricity  \\\n",
       "0        2916.0         4211.0  ...              6319.0              8863.0   \n",
       "1         144.0          122.0  ...               412.0              2998.0   \n",
       "2        4431.0         5945.0  ...             12619.0             17187.0   \n",
       "3        1790.0         3340.0  ...              4941.0              7534.0   \n",
       "4        8518.0        10478.0  ...             19060.0             24025.0   \n",
       "\n",
       "   summer_electricity  fall_electricity  spring_gas  winter_gas  summer_gas  \\\n",
       "0             15969.0           10511.0      4575.0      7731.0      1040.0   \n",
       "1              5175.0            7080.0      1149.0      2834.0       321.0   \n",
       "2             25692.0           12976.0      1991.0      2421.0       278.0   \n",
       "3             12084.0            7870.0      1127.0      2711.0       173.0   \n",
       "4             18561.0           30892.0      6734.0     10053.0      4974.0   \n",
       "\n",
       "  fall_gas    Year  Population - Total  \n",
       "0   1451.0  2018.0             70052.0  \n",
       "1    476.0  4036.0            110327.0  \n",
       "2    797.0  4036.0            140302.0  \n",
       "3    290.0  4036.0             51561.0  \n",
       "4   4564.0  2018.0             66724.0  \n",
       "\n",
       "[5 rows x 83 columns]"
      ]
     },
     "execution_count": 77,
     "metadata": {},
     "output_type": "execute_result"
    }
   ],
   "source": [
    "neighborhood_grouping = chicago_pop_df.groupby(['COMMUNITY AREA NAME'])\n",
    "#neighborhood_energy_grouping = compare_df.groupby(['COMMUNITY AREA NAME'])\n",
    "chicago_neighborhood_populations = neighborhood_grouping.sum()\n",
    "pop_energy_df = pd.merge(compare_df, chicago_neighborhood_populations, on=\"COMMUNITY AREA NAME\", how=\"left\")\n",
    "pop_energy_df.head()"
   ]
  },
  {
   "cell_type": "code",
   "execution_count": 95,
   "metadata": {},
   "outputs": [
    {
     "data": {
      "text/plain": [
       "77"
      ]
     },
     "execution_count": 95,
     "metadata": {},
     "output_type": "execute_result"
    }
   ],
   "source": [
    "neighborhood_energy_grouping = pop_energy_df.groupby(['COMMUNITY AREA NAME'])\n",
    "neighborhoods = pd.unique(pop_energy_df[\"COMMUNITY AREA NAME\"])\n",
    "\n",
    "len(neighborhoods)"
   ]
  },
  {
   "cell_type": "code",
   "execution_count": 91,
   "metadata": {},
   "outputs": [
    {
     "ename": "ValueError",
     "evalue": "x and y must be the same size",
     "output_type": "error",
     "traceback": [
      "\u001b[1;31m---------------------------------------------------------------------------\u001b[0m",
      "\u001b[1;31mValueError\u001b[0m                                Traceback (most recent call last)",
      "\u001b[1;32m<ipython-input-91-1378b27fcd1c>\u001b[0m in \u001b[0;36m<module>\u001b[1;34m\u001b[0m\n\u001b[0;32m      4\u001b[0m \u001b[0mplt\u001b[0m\u001b[1;33m.\u001b[0m\u001b[0mxlabel\u001b[0m \u001b[1;33m=\u001b[0m\u001b[1;34m\"Neighborhhods\"\u001b[0m\u001b[1;33m\u001b[0m\u001b[1;33m\u001b[0m\u001b[0m\n\u001b[0;32m      5\u001b[0m \u001b[0mplt\u001b[0m\u001b[1;33m.\u001b[0m\u001b[0mylabel\u001b[0m \u001b[1;33m=\u001b[0m \u001b[1;34m\"Gas Usage\"\u001b[0m\u001b[1;33m\u001b[0m\u001b[1;33m\u001b[0m\u001b[0m\n\u001b[1;32m----> 6\u001b[1;33m \u001b[0mplt\u001b[0m\u001b[1;33m.\u001b[0m\u001b[0mscatter\u001b[0m\u001b[1;33m(\u001b[0m\u001b[0mx_axis\u001b[0m\u001b[1;33m,\u001b[0m \u001b[0mdata\u001b[0m\u001b[1;33m)\u001b[0m\u001b[1;33m\u001b[0m\u001b[1;33m\u001b[0m\u001b[0m\n\u001b[0m\u001b[0;32m      7\u001b[0m \u001b[0mplt\u001b[0m\u001b[1;33m.\u001b[0m\u001b[0mtitle\u001b[0m\u001b[1;33m(\u001b[0m\u001b[1;34m'Gas Usage by Neighborhood Chicago 2010'\u001b[0m\u001b[1;33m)\u001b[0m\u001b[1;33m\u001b[0m\u001b[1;33m\u001b[0m\u001b[0m\n\u001b[0;32m      8\u001b[0m \u001b[0mplt\u001b[0m\u001b[1;33m.\u001b[0m\u001b[0mshow\u001b[0m\u001b[1;33m(\u001b[0m\u001b[1;33m)\u001b[0m\u001b[1;33m\u001b[0m\u001b[1;33m\u001b[0m\u001b[0m\n",
      "\u001b[1;32m~\\Anaconda3\\lib\\site-packages\\matplotlib\\pyplot.py\u001b[0m in \u001b[0;36mscatter\u001b[1;34m(x, y, s, c, marker, cmap, norm, vmin, vmax, alpha, linewidths, verts, edgecolors, plotnonfinite, data, **kwargs)\u001b[0m\n\u001b[0;32m   2809\u001b[0m         \u001b[0mverts\u001b[0m\u001b[1;33m=\u001b[0m\u001b[0mcbook\u001b[0m\u001b[1;33m.\u001b[0m\u001b[0mdeprecation\u001b[0m\u001b[1;33m.\u001b[0m\u001b[0m_deprecated_parameter\u001b[0m\u001b[1;33m,\u001b[0m\u001b[1;33m\u001b[0m\u001b[1;33m\u001b[0m\u001b[0m\n\u001b[0;32m   2810\u001b[0m         edgecolors=None, *, plotnonfinite=False, data=None, **kwargs):\n\u001b[1;32m-> 2811\u001b[1;33m     __ret = gca().scatter(\n\u001b[0m\u001b[0;32m   2812\u001b[0m         \u001b[0mx\u001b[0m\u001b[1;33m,\u001b[0m \u001b[0my\u001b[0m\u001b[1;33m,\u001b[0m \u001b[0ms\u001b[0m\u001b[1;33m=\u001b[0m\u001b[0ms\u001b[0m\u001b[1;33m,\u001b[0m \u001b[0mc\u001b[0m\u001b[1;33m=\u001b[0m\u001b[0mc\u001b[0m\u001b[1;33m,\u001b[0m \u001b[0mmarker\u001b[0m\u001b[1;33m=\u001b[0m\u001b[0mmarker\u001b[0m\u001b[1;33m,\u001b[0m \u001b[0mcmap\u001b[0m\u001b[1;33m=\u001b[0m\u001b[0mcmap\u001b[0m\u001b[1;33m,\u001b[0m \u001b[0mnorm\u001b[0m\u001b[1;33m=\u001b[0m\u001b[0mnorm\u001b[0m\u001b[1;33m,\u001b[0m\u001b[1;33m\u001b[0m\u001b[1;33m\u001b[0m\u001b[0m\n\u001b[0;32m   2813\u001b[0m         \u001b[0mvmin\u001b[0m\u001b[1;33m=\u001b[0m\u001b[0mvmin\u001b[0m\u001b[1;33m,\u001b[0m \u001b[0mvmax\u001b[0m\u001b[1;33m=\u001b[0m\u001b[0mvmax\u001b[0m\u001b[1;33m,\u001b[0m \u001b[0malpha\u001b[0m\u001b[1;33m=\u001b[0m\u001b[0malpha\u001b[0m\u001b[1;33m,\u001b[0m \u001b[0mlinewidths\u001b[0m\u001b[1;33m=\u001b[0m\u001b[0mlinewidths\u001b[0m\u001b[1;33m,\u001b[0m\u001b[1;33m\u001b[0m\u001b[1;33m\u001b[0m\u001b[0m\n",
      "\u001b[1;32m~\\Anaconda3\\lib\\site-packages\\matplotlib\\__init__.py\u001b[0m in \u001b[0;36minner\u001b[1;34m(ax, data, *args, **kwargs)\u001b[0m\n\u001b[0;32m   1563\u001b[0m     \u001b[1;32mdef\u001b[0m \u001b[0minner\u001b[0m\u001b[1;33m(\u001b[0m\u001b[0max\u001b[0m\u001b[1;33m,\u001b[0m \u001b[1;33m*\u001b[0m\u001b[0margs\u001b[0m\u001b[1;33m,\u001b[0m \u001b[0mdata\u001b[0m\u001b[1;33m=\u001b[0m\u001b[1;32mNone\u001b[0m\u001b[1;33m,\u001b[0m \u001b[1;33m**\u001b[0m\u001b[0mkwargs\u001b[0m\u001b[1;33m)\u001b[0m\u001b[1;33m:\u001b[0m\u001b[1;33m\u001b[0m\u001b[1;33m\u001b[0m\u001b[0m\n\u001b[0;32m   1564\u001b[0m         \u001b[1;32mif\u001b[0m \u001b[0mdata\u001b[0m \u001b[1;32mis\u001b[0m \u001b[1;32mNone\u001b[0m\u001b[1;33m:\u001b[0m\u001b[1;33m\u001b[0m\u001b[1;33m\u001b[0m\u001b[0m\n\u001b[1;32m-> 1565\u001b[1;33m             \u001b[1;32mreturn\u001b[0m \u001b[0mfunc\u001b[0m\u001b[1;33m(\u001b[0m\u001b[0max\u001b[0m\u001b[1;33m,\u001b[0m \u001b[1;33m*\u001b[0m\u001b[0mmap\u001b[0m\u001b[1;33m(\u001b[0m\u001b[0msanitize_sequence\u001b[0m\u001b[1;33m,\u001b[0m \u001b[0margs\u001b[0m\u001b[1;33m)\u001b[0m\u001b[1;33m,\u001b[0m \u001b[1;33m**\u001b[0m\u001b[0mkwargs\u001b[0m\u001b[1;33m)\u001b[0m\u001b[1;33m\u001b[0m\u001b[1;33m\u001b[0m\u001b[0m\n\u001b[0m\u001b[0;32m   1566\u001b[0m \u001b[1;33m\u001b[0m\u001b[0m\n\u001b[0;32m   1567\u001b[0m         \u001b[0mbound\u001b[0m \u001b[1;33m=\u001b[0m \u001b[0mnew_sig\u001b[0m\u001b[1;33m.\u001b[0m\u001b[0mbind\u001b[0m\u001b[1;33m(\u001b[0m\u001b[0max\u001b[0m\u001b[1;33m,\u001b[0m \u001b[1;33m*\u001b[0m\u001b[0margs\u001b[0m\u001b[1;33m,\u001b[0m \u001b[1;33m**\u001b[0m\u001b[0mkwargs\u001b[0m\u001b[1;33m)\u001b[0m\u001b[1;33m\u001b[0m\u001b[1;33m\u001b[0m\u001b[0m\n",
      "\u001b[1;32m~\\Anaconda3\\lib\\site-packages\\matplotlib\\cbook\\deprecation.py\u001b[0m in \u001b[0;36mwrapper\u001b[1;34m(*args, **kwargs)\u001b[0m\n\u001b[0;32m    356\u001b[0m                 \u001b[1;34mf\"%(removal)s.  If any parameter follows {name!r}, they \"\u001b[0m\u001b[1;33m\u001b[0m\u001b[1;33m\u001b[0m\u001b[0m\n\u001b[0;32m    357\u001b[0m                 f\"should be pass as keyword, not positionally.\")\n\u001b[1;32m--> 358\u001b[1;33m         \u001b[1;32mreturn\u001b[0m \u001b[0mfunc\u001b[0m\u001b[1;33m(\u001b[0m\u001b[1;33m*\u001b[0m\u001b[0margs\u001b[0m\u001b[1;33m,\u001b[0m \u001b[1;33m**\u001b[0m\u001b[0mkwargs\u001b[0m\u001b[1;33m)\u001b[0m\u001b[1;33m\u001b[0m\u001b[1;33m\u001b[0m\u001b[0m\n\u001b[0m\u001b[0;32m    359\u001b[0m \u001b[1;33m\u001b[0m\u001b[0m\n\u001b[0;32m    360\u001b[0m     \u001b[1;32mreturn\u001b[0m \u001b[0mwrapper\u001b[0m\u001b[1;33m\u001b[0m\u001b[1;33m\u001b[0m\u001b[0m\n",
      "\u001b[1;32m~\\Anaconda3\\lib\\site-packages\\matplotlib\\axes\\_axes.py\u001b[0m in \u001b[0;36mscatter\u001b[1;34m(self, x, y, s, c, marker, cmap, norm, vmin, vmax, alpha, linewidths, verts, edgecolors, plotnonfinite, **kwargs)\u001b[0m\n\u001b[0;32m   4389\u001b[0m         \u001b[0my\u001b[0m \u001b[1;33m=\u001b[0m \u001b[0mnp\u001b[0m\u001b[1;33m.\u001b[0m\u001b[0mma\u001b[0m\u001b[1;33m.\u001b[0m\u001b[0mravel\u001b[0m\u001b[1;33m(\u001b[0m\u001b[0my\u001b[0m\u001b[1;33m)\u001b[0m\u001b[1;33m\u001b[0m\u001b[1;33m\u001b[0m\u001b[0m\n\u001b[0;32m   4390\u001b[0m         \u001b[1;32mif\u001b[0m \u001b[0mx\u001b[0m\u001b[1;33m.\u001b[0m\u001b[0msize\u001b[0m \u001b[1;33m!=\u001b[0m \u001b[0my\u001b[0m\u001b[1;33m.\u001b[0m\u001b[0msize\u001b[0m\u001b[1;33m:\u001b[0m\u001b[1;33m\u001b[0m\u001b[1;33m\u001b[0m\u001b[0m\n\u001b[1;32m-> 4391\u001b[1;33m             \u001b[1;32mraise\u001b[0m \u001b[0mValueError\u001b[0m\u001b[1;33m(\u001b[0m\u001b[1;34m\"x and y must be the same size\"\u001b[0m\u001b[1;33m)\u001b[0m\u001b[1;33m\u001b[0m\u001b[1;33m\u001b[0m\u001b[0m\n\u001b[0m\u001b[0;32m   4392\u001b[0m \u001b[1;33m\u001b[0m\u001b[0m\n\u001b[0;32m   4393\u001b[0m         \u001b[1;32mif\u001b[0m \u001b[0ms\u001b[0m \u001b[1;32mis\u001b[0m \u001b[1;32mNone\u001b[0m\u001b[1;33m:\u001b[0m\u001b[1;33m\u001b[0m\u001b[1;33m\u001b[0m\u001b[0m\n",
      "\u001b[1;31mValueError\u001b[0m: x and y must be the same size"
     ]
    },
    {
     "data": {
      "image/png": "[encoded data removed]",
      "text/plain": [
       "<Figure size 432x288 with 1 Axes>"
      ]
     },
     "metadata": {
      "needs_background": "light"
     },
     "output_type": "display_data"
    }
   ],
   "source": [
    "data = [neighborhood_energy_grouping[\"spring_gas\"].sum(), neighborhood_energy_grouping[\"summer_gas\"].sum(), neighborhood_energy_grouping[\"fall_gas\"].sum(), neighborhood_energy_grouping[\"winter_gas\"].sum()]\n",
    "x_axis = neighborhoods\n",
    "plt.labels = seasons\n",
    "plt.xlabel =\"Neighborhhods\"\n",
    "plt.ylabel = \"Gas Usage\"\n",
    "plt.scatter(x_axis, data)\n",
    "plt.title('Gas Usage by Neighborhood Chicago 2010')\n",
    "plt.show()"
   ]
  },
  {
   "cell_type": "code",
   "execution_count": null,
   "metadata": {},
   "outputs": [],
   "source": []
  },
  {
   "cell_type": "code",
   "execution_count": null,
   "metadata": {},
   "outputs": [],
   "source": []
  }
 ],
 "metadata": {
  "kernelspec": {
   "display_name": "Python 3",
   "language": "python",
   "name": "python3"
  },
  "language_info": {
   "codemirror_mode": {
    "name": "ipython",
    "version": 3
   },
   "file_extension": ".py",
   "mimetype": "text/x-python",
   "name": "python",
   "nbconvert_exporter": "python",
   "pygments_lexer": "ipython3",
   "version": "3.8.3"
  }
 },
 "nbformat": 4,
 "nbformat_minor": 4
}
