{
 "cells": [
  {
   "cell_type": "code",
   "execution_count": 2,
   "metadata": {},
   "outputs": [],
   "source": [
    "import pandas as pd\n",
    "import matplotlib.pyplot as plt\n",
    "import scipy.stats as linregress\n",
    "import numpy as np"
   ]
  },
  {
   "cell_type": "code",
   "execution_count": 3,
   "metadata": {},
   "outputs": [],
   "source": [
    "cta_bus_path = r\"C:\\Users\\Kaleb\\Chicago_Energy\\Travel_data\\CTA_Average_Bus_Ridership_1999_2020_1 (1).csv\"\n",
    "cta_rail_path = r\"C:\\Users\\Kaleb\\Chicago_Energy\\Travel_data\\CTA_Average_Rail_Station_Ridership_1999_2020_0 (1).csv\"\n",
    "metra_riders_path = r\"C:\\Users\\Kaleb\\Chicago_Energy\\Travel_data\\Metra_Monthly_Ridership_by_Line_2003_2020_0.csv\"\n",
    "yearly_data_path = r\"C:\\Users\\Kaleb\\Chicago_Energy\\Travel_data\\SYSTEMRIDERSHIP_0.csv\"\n",
    "census_data = r\"C:\\Users\\Kaleb\\Chicago_Energy\\Data\\Chicago_Population_Counts_2018.csv\""
   ]
  },
  {
   "cell_type": "code",
   "execution_count": 4,
   "metadata": {},
   "outputs": [
    {
     "data": {
      "text/html": [
       "<div>\n",
       "<style scoped>\n",
       "    .dataframe tbody tr th:only-of-type {\n",
       "        vertical-align: middle;\n",
       "    }\n",
       "\n",
       "    .dataframe tbody tr th {\n",
       "        vertical-align: top;\n",
       "    }\n",
       "\n",
       "    .dataframe thead th {\n",
       "        text-align: right;\n",
       "    }\n",
       "</style>\n",
       "<table border=\"1\" class=\"dataframe\">\n",
       "  <thead>\n",
       "    <tr style=\"text-align: right;\">\n",
       "      <th></th>\n",
       "      <th>ROUTE</th>\n",
       "      <th>MONTH</th>\n",
       "      <th>YEAR</th>\n",
       "      <th>DAY_TYPE_ID</th>\n",
       "      <th>AVG_RIDES</th>\n",
       "    </tr>\n",
       "  </thead>\n",
       "  <tbody>\n",
       "    <tr>\n",
       "      <th>0</th>\n",
       "      <td>0</td>\n",
       "      <td>4.0</td>\n",
       "      <td>2020.0</td>\n",
       "      <td>WK</td>\n",
       "      <td>1340.0</td>\n",
       "    </tr>\n",
       "    <tr>\n",
       "      <th>1</th>\n",
       "      <td>0</td>\n",
       "      <td>4.0</td>\n",
       "      <td>2020.0</td>\n",
       "      <td>SAT</td>\n",
       "      <td>766.0</td>\n",
       "    </tr>\n",
       "    <tr>\n",
       "      <th>2</th>\n",
       "      <td>0</td>\n",
       "      <td>4.0</td>\n",
       "      <td>2020.0</td>\n",
       "      <td>SUN</td>\n",
       "      <td>666.0</td>\n",
       "    </tr>\n",
       "    <tr>\n",
       "      <th>3</th>\n",
       "      <td>1</td>\n",
       "      <td>4.0</td>\n",
       "      <td>2020.0</td>\n",
       "      <td>WK</td>\n",
       "      <td>89.0</td>\n",
       "    </tr>\n",
       "    <tr>\n",
       "      <th>4</th>\n",
       "      <td>100</td>\n",
       "      <td>4.0</td>\n",
       "      <td>2020.0</td>\n",
       "      <td>WK</td>\n",
       "      <td>166.0</td>\n",
       "    </tr>\n",
       "    <tr>\n",
       "      <th>...</th>\n",
       "      <td>...</td>\n",
       "      <td>...</td>\n",
       "      <td>...</td>\n",
       "      <td>...</td>\n",
       "      <td>...</td>\n",
       "    </tr>\n",
       "    <tr>\n",
       "      <th>82914</th>\n",
       "      <td>10</td>\n",
       "      <td>1.0</td>\n",
       "      <td>1999.0</td>\n",
       "      <td>SAT</td>\n",
       "      <td>200.0</td>\n",
       "    </tr>\n",
       "    <tr>\n",
       "      <th>82915</th>\n",
       "      <td>25</td>\n",
       "      <td>1.0</td>\n",
       "      <td>1999.0</td>\n",
       "      <td>SAT</td>\n",
       "      <td>158.0</td>\n",
       "    </tr>\n",
       "    <tr>\n",
       "      <th>82916</th>\n",
       "      <td>90N</td>\n",
       "      <td>1.0</td>\n",
       "      <td>1999.0</td>\n",
       "      <td>SAT</td>\n",
       "      <td>114.0</td>\n",
       "    </tr>\n",
       "    <tr>\n",
       "      <th>82917</th>\n",
       "      <td>25</td>\n",
       "      <td>1.0</td>\n",
       "      <td>1999.0</td>\n",
       "      <td>SUN</td>\n",
       "      <td>111.0</td>\n",
       "    </tr>\n",
       "    <tr>\n",
       "      <th>82918</th>\n",
       "      <td>55N</td>\n",
       "      <td>1.0</td>\n",
       "      <td>1999.0</td>\n",
       "      <td>SAT</td>\n",
       "      <td>105.0</td>\n",
       "    </tr>\n",
       "  </tbody>\n",
       "</table>\n",
       "<p>82919 rows × 5 columns</p>\n",
       "</div>"
      ],
      "text/plain": [
       "      ROUTE  MONTH    YEAR DAY_TYPE_ID  AVG_RIDES\n",
       "0         0    4.0  2020.0          WK     1340.0\n",
       "1         0    4.0  2020.0         SAT      766.0\n",
       "2         0    4.0  2020.0         SUN      666.0\n",
       "3         1    4.0  2020.0          WK       89.0\n",
       "4       100    4.0  2020.0          WK      166.0\n",
       "...     ...    ...     ...         ...        ...\n",
       "82914    10    1.0  1999.0         SAT      200.0\n",
       "82915    25    1.0  1999.0         SAT      158.0\n",
       "82916   90N    1.0  1999.0         SAT      114.0\n",
       "82917    25    1.0  1999.0         SUN      111.0\n",
       "82918   55N    1.0  1999.0         SAT      105.0\n",
       "\n",
       "[82919 rows x 5 columns]"
      ]
     },
     "execution_count": 4,
     "metadata": {},
     "output_type": "execute_result"
    }
   ],
   "source": [
    "cta_bus_csv =  pd.read_csv(cta_bus_path)\n",
    "cta_bus = pd.DataFrame(cta_bus_csv)\n",
    "cta_bus"
   ]
  },
  {
   "cell_type": "code",
   "execution_count": 6,
   "metadata": {},
   "outputs": [
    {
     "data": {
      "text/plain": [
       "<pandas.core.groupby.generic.DataFrameGroupBy object at 0x000001F1D00A0D90>"
      ]
     },
     "execution_count": 6,
     "metadata": {},
     "output_type": "execute_result"
    }
   ],
   "source": [
    "#cta_bus[\"AVG_RIDES\"] = cta_bus[\"AVG_RIDES\"].sum(axis=1)\n",
    "cta_bus_year =cta_bus.groupby([\"YEAR\"])\n",
    "cta_bus_2015 = cta_bus.loc[cta_bus[\"YEAR\"] == 2015]\n",
    "cta_bus_2016 = cta_bus.loc[cta_bus[\"YEAR\"] == 2016]\n",
    "cta_bus_2017 = cta_bus.loc[cta_bus[\"YEAR\"] == 2017]\n",
    "cta_bus_2018 = cta_bus.loc[cta_bus[\"YEAR\"] == 2018]\n",
    "cta_bus_2019 = cta_bus.loc[cta_bus[\"YEAR\"] == 2019]\n",
    "cta_bus_2020 = cta_bus.loc[cta_bus[\"YEAR\"] == 2020]\n",
    "cta_bus_year"
   ]
  },
  {
   "cell_type": "code",
   "execution_count": 7,
   "metadata": {},
   "outputs": [
    {
     "data": {
      "text/plain": [
       "YEAR\n",
       "1999.0    23325156.0\n",
       "2000.0    23728929.0\n",
       "2001.0    23769669.0\n",
       "2002.0    23909827.0\n",
       "2003.0    22977607.0\n",
       "2004.0    23305330.0\n",
       "2005.0    24066467.0\n",
       "2006.0    23745665.0\n",
       "2007.0    24680850.0\n",
       "2008.0    26377709.0\n",
       "2009.0    25756549.0\n",
       "2010.0    24444827.0\n",
       "2011.0    24903936.0\n",
       "2012.0    25313144.0\n",
       "2013.0    23966502.0\n",
       "2014.0    22061748.0\n",
       "2015.0    21876596.0\n",
       "2016.0    20495913.0\n",
       "2017.0    19641987.0\n",
       "2018.0    18955014.0\n",
       "2019.0    18670712.0\n",
       "2020.0     4509689.0\n",
       "Name: AVG_RIDES, dtype: float64"
      ]
     },
     "execution_count": 7,
     "metadata": {},
     "output_type": "execute_result"
    }
   ],
   "source": [
    "#Rides per year\n",
    "totals = cta_bus_year['AVG_RIDES'].sum()\n",
    "#cta_bus_2015['total']=cta_bus_2015.loc[:,\"AVG_RIDES\"].sum()\n",
    "#cta_bus_2015[\"total\"]\n",
    "\n",
    "totals"
   ]
  },
  {
   "cell_type": "code",
   "execution_count": 21,
   "metadata": {},
   "outputs": [
    {
     "name": "stdout",
     "output_type": "stream",
     "text": [
      "   Year     Rides\n",
      "1  2015  21876596\n",
      "2  2016  20495913\n",
      "3  2017  19641987\n",
      "4  2018  18955014\n",
      "5  2019  18670712\n",
      "6  2020   4509689\n"
     ]
    }
   ],
   "source": [
    "cta_bus_rides = {'Year': [\"2015\", '2016', '2017', '2018', '2019', '2020' ],\n",
    "                'Rides': [\"21876596\", '20495913', '19641987', '18955014', '18670712',\n",
    "                         '4509689']\n",
    "                }\n",
    "cta_bus_rides_df = pd.DataFrame(cta_bus_rides, columns=['Year', 'Rides'], index = [1, 2, 3, 4, 5, 6])\n",
    "\n",
    "print(cta_bus_rides_df)"
   ]
  },
  {
   "cell_type": "code",
   "execution_count": 11,
   "metadata": {},
   "outputs": [
    {
     "data": {
      "text/html": [
       "<div>\n",
       "<style scoped>\n",
       "    .dataframe tbody tr th:only-of-type {\n",
       "        vertical-align: middle;\n",
       "    }\n",
       "\n",
       "    .dataframe tbody tr th {\n",
       "        vertical-align: top;\n",
       "    }\n",
       "\n",
       "    .dataframe thead th {\n",
       "        text-align: right;\n",
       "    }\n",
       "</style>\n",
       "<table border=\"1\" class=\"dataframe\">\n",
       "  <thead>\n",
       "    <tr style=\"text-align: right;\">\n",
       "      <th></th>\n",
       "      <th>AVG_RIDES</th>\n",
       "    </tr>\n",
       "    <tr>\n",
       "      <th>YEAR</th>\n",
       "      <th></th>\n",
       "    </tr>\n",
       "  </thead>\n",
       "  <tbody>\n",
       "    <tr>\n",
       "      <th>1999.0</th>\n",
       "      <td>23325156.0</td>\n",
       "    </tr>\n",
       "    <tr>\n",
       "      <th>2000.0</th>\n",
       "      <td>23728929.0</td>\n",
       "    </tr>\n",
       "    <tr>\n",
       "      <th>2001.0</th>\n",
       "      <td>23769669.0</td>\n",
       "    </tr>\n",
       "    <tr>\n",
       "      <th>2002.0</th>\n",
       "      <td>23909827.0</td>\n",
       "    </tr>\n",
       "    <tr>\n",
       "      <th>2003.0</th>\n",
       "      <td>22977607.0</td>\n",
       "    </tr>\n",
       "    <tr>\n",
       "      <th>2004.0</th>\n",
       "      <td>23305330.0</td>\n",
       "    </tr>\n",
       "    <tr>\n",
       "      <th>2005.0</th>\n",
       "      <td>24066467.0</td>\n",
       "    </tr>\n",
       "    <tr>\n",
       "      <th>2006.0</th>\n",
       "      <td>23745665.0</td>\n",
       "    </tr>\n",
       "    <tr>\n",
       "      <th>2007.0</th>\n",
       "      <td>24680850.0</td>\n",
       "    </tr>\n",
       "    <tr>\n",
       "      <th>2008.0</th>\n",
       "      <td>26377709.0</td>\n",
       "    </tr>\n",
       "    <tr>\n",
       "      <th>2009.0</th>\n",
       "      <td>25756549.0</td>\n",
       "    </tr>\n",
       "    <tr>\n",
       "      <th>2010.0</th>\n",
       "      <td>24444827.0</td>\n",
       "    </tr>\n",
       "    <tr>\n",
       "      <th>2011.0</th>\n",
       "      <td>24903936.0</td>\n",
       "    </tr>\n",
       "    <tr>\n",
       "      <th>2012.0</th>\n",
       "      <td>25313144.0</td>\n",
       "    </tr>\n",
       "    <tr>\n",
       "      <th>2013.0</th>\n",
       "      <td>23966502.0</td>\n",
       "    </tr>\n",
       "    <tr>\n",
       "      <th>2014.0</th>\n",
       "      <td>22061748.0</td>\n",
       "    </tr>\n",
       "    <tr>\n",
       "      <th>2015.0</th>\n",
       "      <td>21876596.0</td>\n",
       "    </tr>\n",
       "    <tr>\n",
       "      <th>2016.0</th>\n",
       "      <td>20495913.0</td>\n",
       "    </tr>\n",
       "    <tr>\n",
       "      <th>2017.0</th>\n",
       "      <td>19641987.0</td>\n",
       "    </tr>\n",
       "    <tr>\n",
       "      <th>2018.0</th>\n",
       "      <td>18955014.0</td>\n",
       "    </tr>\n",
       "    <tr>\n",
       "      <th>2019.0</th>\n",
       "      <td>18670712.0</td>\n",
       "    </tr>\n",
       "    <tr>\n",
       "      <th>2020.0</th>\n",
       "      <td>4509689.0</td>\n",
       "    </tr>\n",
       "  </tbody>\n",
       "</table>\n",
       "</div>"
      ],
      "text/plain": [
       "         AVG_RIDES\n",
       "YEAR              \n",
       "1999.0  23325156.0\n",
       "2000.0  23728929.0\n",
       "2001.0  23769669.0\n",
       "2002.0  23909827.0\n",
       "2003.0  22977607.0\n",
       "2004.0  23305330.0\n",
       "2005.0  24066467.0\n",
       "2006.0  23745665.0\n",
       "2007.0  24680850.0\n",
       "2008.0  26377709.0\n",
       "2009.0  25756549.0\n",
       "2010.0  24444827.0\n",
       "2011.0  24903936.0\n",
       "2012.0  25313144.0\n",
       "2013.0  23966502.0\n",
       "2014.0  22061748.0\n",
       "2015.0  21876596.0\n",
       "2016.0  20495913.0\n",
       "2017.0  19641987.0\n",
       "2018.0  18955014.0\n",
       "2019.0  18670712.0\n",
       "2020.0   4509689.0"
      ]
     },
     "execution_count": 11,
     "metadata": {},
     "output_type": "execute_result"
    }
   ],
   "source": [
    "totals_df = pd.DataFrame(totals)\n",
    "totals_df\n"
   ]
  },
  {
   "cell_type": "code",
   "execution_count": 21,
   "metadata": {},
   "outputs": [
    {
     "name": "stderr",
     "output_type": "stream",
     "text": [
      "<ipython-input-21-6183bce8307e>:1: SettingWithCopyWarning: \n",
      "A value is trying to be set on a copy of a slice from a DataFrame.\n",
      "Try using .loc[row_indexer,col_indexer] = value instead\n",
      "\n",
      "See the caveats in the documentation: https://pandas.pydata.org/pandas-docs/stable/user_guide/indexing.html#returning-a-view-versus-a-copy\n",
      "  cta_bus_2016['total']=cta_bus_2016.loc[:,\"AVG_RIDES\"].sum()\n"
     ]
    },
    {
     "data": {
      "text/plain": [
       "12555    20495913.0\n",
       "12556    20495913.0\n",
       "12557    20495913.0\n",
       "12558    20495913.0\n",
       "12559    20495913.0\n",
       "            ...    \n",
       "16364    20495913.0\n",
       "16365    20495913.0\n",
       "16366    20495913.0\n",
       "16367    20495913.0\n",
       "16368    20495913.0\n",
       "Name: total, Length: 3814, dtype: float64"
      ]
     },
     "execution_count": 21,
     "metadata": {},
     "output_type": "execute_result"
    }
   ],
   "source": [
    "cta_bus_2016['total']=cta_bus_2016.loc[:,\"AVG_RIDES\"].sum()\n",
    "cta_bus_2016['total']"
   ]
  },
  {
   "cell_type": "code",
   "execution_count": 22,
   "metadata": {},
   "outputs": [
    {
     "name": "stderr",
     "output_type": "stream",
     "text": [
      "<ipython-input-22-abb0a5999797>:1: SettingWithCopyWarning: \n",
      "A value is trying to be set on a copy of a slice from a DataFrame.\n",
      "Try using .loc[row_indexer,col_indexer] = value instead\n",
      "\n",
      "See the caveats in the documentation: https://pandas.pydata.org/pandas-docs/stable/user_guide/indexing.html#returning-a-view-versus-a-copy\n",
      "  cta_bus_2017['total']=cta_bus_2017.loc[:,\"AVG_RIDES\"].sum()\n"
     ]
    },
    {
     "data": {
      "text/plain": [
       "8783     19641987.0\n",
       "8784     19641987.0\n",
       "8785     19641987.0\n",
       "8786     19641987.0\n",
       "8787     19641987.0\n",
       "            ...    \n",
       "12550    19641987.0\n",
       "12551    19641987.0\n",
       "12552    19641987.0\n",
       "12553    19641987.0\n",
       "12554    19641987.0\n",
       "Name: total, Length: 3772, dtype: float64"
      ]
     },
     "execution_count": 22,
     "metadata": {},
     "output_type": "execute_result"
    }
   ],
   "source": [
    "cta_bus_2017['total']=cta_bus_2017.loc[:,\"AVG_RIDES\"].sum()\n",
    "cta_bus_2017['total']"
   ]
  },
  {
   "cell_type": "code",
   "execution_count": 23,
   "metadata": {},
   "outputs": [
    {
     "name": "stderr",
     "output_type": "stream",
     "text": [
      "<ipython-input-23-aea6c8c9d7d9>:1: SettingWithCopyWarning: \n",
      "A value is trying to be set on a copy of a slice from a DataFrame.\n",
      "Try using .loc[row_indexer,col_indexer] = value instead\n",
      "\n",
      "See the caveats in the documentation: https://pandas.pydata.org/pandas-docs/stable/user_guide/indexing.html#returning-a-view-versus-a-copy\n",
      "  cta_bus_2018['total']=cta_bus_2018.loc[:,\"AVG_RIDES\"].sum()\n"
     ]
    },
    {
     "data": {
      "text/plain": [
       "5003    18955014.0\n",
       "5004    18955014.0\n",
       "5005    18955014.0\n",
       "5006    18955014.0\n",
       "5007    18955014.0\n",
       "           ...    \n",
       "8778    18955014.0\n",
       "8779    18955014.0\n",
       "8780    18955014.0\n",
       "8781    18955014.0\n",
       "8782    18955014.0\n",
       "Name: total, Length: 3780, dtype: float64"
      ]
     },
     "execution_count": 23,
     "metadata": {},
     "output_type": "execute_result"
    }
   ],
   "source": [
    "cta_bus_2018['total']=cta_bus_2018.loc[:,\"AVG_RIDES\"].sum()\n",
    "cta_bus_2018['total']"
   ]
  },
  {
   "cell_type": "code",
   "execution_count": null,
   "metadata": {},
   "outputs": [],
   "source": [
    "cta_bus_2019['total']=cta_bus_2019.loc[:,\"AVG_RIDES\"].sum()\n",
    "cta_bus_2019['total'] = cta_bus_2019.drop_duplicates\n",
    "cta_bus_2019['total']"
   ]
  },
  {
   "cell_type": "code",
   "execution_count": 25,
   "metadata": {},
   "outputs": [
    {
     "name": "stderr",
     "output_type": "stream",
     "text": [
      "<ipython-input-25-e7ef6b7eec57>:1: SettingWithCopyWarning: \n",
      "A value is trying to be set on a copy of a slice from a DataFrame.\n",
      "Try using .loc[row_indexer,col_indexer] = value instead\n",
      "\n",
      "See the caveats in the documentation: https://pandas.pydata.org/pandas-docs/stable/user_guide/indexing.html#returning-a-view-versus-a-copy\n",
      "  cta_bus_2020['total']=cta_bus_2020.loc[:,\"AVG_RIDES\"].sum()\n"
     ]
    },
    {
     "data": {
      "text/plain": [
       "0       4509689.0\n",
       "1       4509689.0\n",
       "2       4509689.0\n",
       "3       4509689.0\n",
       "4       4509689.0\n",
       "          ...    \n",
       "1239    4509689.0\n",
       "1240    4509689.0\n",
       "1241    4509689.0\n",
       "1242    4509689.0\n",
       "1243    4509689.0\n",
       "Name: total, Length: 1244, dtype: float64"
      ]
     },
     "execution_count": 25,
     "metadata": {},
     "output_type": "execute_result"
    }
   ],
   "source": [
    "cta_bus_2020['total']=cta_bus_2020.loc[:,\"AVG_RIDES\"].sum()\n",
    "cta_bus_2020['total']"
   ]
  },
  {
   "cell_type": "code",
   "execution_count": 76,
   "metadata": {},
   "outputs": [
    {
     "data": {
      "text/html": [
       "<div>\n",
       "<style scoped>\n",
       "    .dataframe tbody tr th:only-of-type {\n",
       "        vertical-align: middle;\n",
       "    }\n",
       "\n",
       "    .dataframe tbody tr th {\n",
       "        vertical-align: top;\n",
       "    }\n",
       "\n",
       "    .dataframe thead th {\n",
       "        text-align: right;\n",
       "    }\n",
       "</style>\n",
       "<table border=\"1\" class=\"dataframe\">\n",
       "  <thead>\n",
       "    <tr style=\"text-align: right;\">\n",
       "      <th></th>\n",
       "      <th>2015</th>\n",
       "      <th>2016</th>\n",
       "      <th>2017</th>\n",
       "      <th>2018</th>\n",
       "      <th>2019</th>\n",
       "      <th>2020</th>\n",
       "    </tr>\n",
       "  </thead>\n",
       "  <tbody>\n",
       "    <tr>\n",
       "      <th>0</th>\n",
       "      <td>16369    490483826.0\n",
       "16370    490483826.0\n",
       "1637...</td>\n",
       "      <td>12555    490483826.0\n",
       "12556    490483826.0\n",
       "1255...</td>\n",
       "      <td>8783     490483826.0\n",
       "8784     490483826.0\n",
       "8785...</td>\n",
       "      <td>5003    490483826.0\n",
       "5004    490483826.0\n",
       "5005  ...</td>\n",
       "      <td>1245    490483826.0\n",
       "1246    490483826.0\n",
       "1247  ...</td>\n",
       "      <td>0       490483826.0\n",
       "1       490483826.0\n",
       "2     ...</td>\n",
       "    </tr>\n",
       "  </tbody>\n",
       "</table>\n",
       "</div>"
      ],
      "text/plain": [
       "                                                2015  \\\n",
       "0  16369    490483826.0\n",
       "16370    490483826.0\n",
       "1637...   \n",
       "\n",
       "                                                2016  \\\n",
       "0  12555    490483826.0\n",
       "12556    490483826.0\n",
       "1255...   \n",
       "\n",
       "                                                2017  \\\n",
       "0  8783     490483826.0\n",
       "8784     490483826.0\n",
       "8785...   \n",
       "\n",
       "                                                2018  \\\n",
       "0  5003    490483826.0\n",
       "5004    490483826.0\n",
       "5005  ...   \n",
       "\n",
       "                                                2019  \\\n",
       "0  1245    490483826.0\n",
       "1246    490483826.0\n",
       "1247  ...   \n",
       "\n",
       "                                                2020  \n",
       "0  0       490483826.0\n",
       "1       490483826.0\n",
       "2     ...  "
      ]
     },
     "execution_count": 76,
     "metadata": {},
     "output_type": "execute_result"
    }
   ],
   "source": [
    "#cta_rides = pd.DataFrame({'2015': [cta_bus_2015['total']],'2016': [cta_bus_2016['total']], '2017': [cta_bus_2017['total']], \n",
    "                          '2018': [cta_bus_2018['total']], '2019': [cta_bus_2019['total']], \n",
    "                          '2020': [cta_bus_2020['total']]})\n",
    "#years = ['2015', '2016', '2017', '2018', '2019', '2020' ]\n",
    "#cta_rides_df = pd.DataFrame(cta_rides, columns=[cta_bus[\"YEAR\"] > 2014])\n",
    "#cta_graph = cta_rides.plot\n",
    "#cta_graph\n",
    "#cta_rides"
   ]
  },
  {
   "cell_type": "code",
   "execution_count": null,
   "metadata": {},
   "outputs": [],
   "source": [
    "#fuel per ride \n"
   ]
  },
  {
   "cell_type": "code",
   "execution_count": null,
   "metadata": {},
   "outputs": [],
   "source": []
  },
  {
   "cell_type": "code",
   "execution_count": null,
   "metadata": {},
   "outputs": [],
   "source": [
    "#Fuel per year"
   ]
  },
  {
   "cell_type": "code",
   "execution_count": null,
   "metadata": {},
   "outputs": [],
   "source": [
    "#fuel per person"
   ]
  },
  {
   "cell_type": "code",
   "execution_count": null,
   "metadata": {},
   "outputs": [],
   "source": [
    "#People per ride"
   ]
  }
 ],
 "metadata": {
  "kernelspec": {
   "display_name": "Python 3",
   "language": "python",
   "name": "python3"
  },
  "language_info": {
   "codemirror_mode": {
    "name": "ipython",
    "version": 3
   },
   "file_extension": ".py",
   "mimetype": "text/x-python",
   "name": "python",
   "nbconvert_exporter": "python",
   "pygments_lexer": "ipython3",
   "version": "3.8.3"
  }
 },
 "nbformat": 4,
 "nbformat_minor": 4
}
