{
 "cells": [
  {
   "cell_type": "code",
   "execution_count": 13,
   "metadata": {},
   "outputs": [],
   "source": [
    "import matplotlib.pyplot as plt\n",
    "import pandas as pd\n",
    "import scipy.stats as st\n",
    "from scipy.stats import linregress\n",
    "import numpy as np\n",
    "import sklearn.datasets as dta\n",
    "from sklearn import datasets\n",
    "import requests"
   ]
  },
  {
   "cell_type": "code",
   "execution_count": 19,
   "metadata": {},
   "outputs": [],
   "source": [
    "Chicago_Building_Benchmark = \"Data\\\\Chicago_Energy_Benchmarking.csv\"\n",
    "Chicago_Population = \"Data\\\\Chicago_Population_Counts_2018.csv\"\n",
    "Energy_Usage = \"Data\\\\Energy_Usage_2010.csv\"\n",
    "Illinois_Pop = \"Data\\\\illinois_county_data.csv\""
   ]
  },
  {
   "cell_type": "code",
   "execution_count": 20,
   "metadata": {},
   "outputs": [
    {
     "data": {
      "text/plain": [
       "'Data\\\\Chicago_Population_Counts_2018.csv'"
      ]
     },
     "execution_count": 20,
     "metadata": {},
     "output_type": "execute_result"
    }
   ],
   "source": [
    "Chicago_Population"
   ]
  },
  {
   "cell_type": "code",
   "execution_count": 22,
   "metadata": {},
   "outputs": [
    {
     "name": "stderr",
     "output_type": "stream",
     "text": [
      "b'Skipping line 12: expected 1 fields, saw 2\\nSkipping line 29: expected 1 fields, saw 2\\nSkipping line 31: expected 1 fields, saw 2\\nSkipping line 33: expected 1 fields, saw 2\\nSkipping line 34: expected 1 fields, saw 2\\nSkipping line 35: expected 1 fields, saw 2\\nSkipping line 36: expected 1 fields, saw 2\\nSkipping line 37: expected 1 fields, saw 2\\nSkipping line 38: expected 1 fields, saw 2\\nSkipping line 39: expected 1 fields, saw 2\\nSkipping line 40: expected 1 fields, saw 2\\nSkipping line 41: expected 1 fields, saw 2\\nSkipping line 42: expected 1 fields, saw 2\\nSkipping line 43: expected 1 fields, saw 2\\nSkipping line 44: expected 1 fields, saw 2\\nSkipping line 45: expected 1 fields, saw 2\\nSkipping line 46: expected 1 fields, saw 2\\nSkipping line 47: expected 1 fields, saw 2\\nSkipping line 48: expected 1 fields, saw 2\\nSkipping line 49: expected 1 fields, saw 2\\nSkipping line 50: expected 1 fields, saw 2\\nSkipping line 53: expected 1 fields, saw 2\\nSkipping line 55: expected 1 fields, saw 2\\nSkipping line 58: expected 1 fields, saw 2\\nSkipping line 60: expected 1 fields, saw 2\\nSkipping line 63: expected 1 fields, saw 2\\nSkipping line 65: expected 1 fields, saw 3\\nSkipping line 67: expected 1 fields, saw 2\\nSkipping line 69: expected 1 fields, saw 2\\nSkipping line 71: expected 1 fields, saw 2\\nSkipping line 73: expected 1 fields, saw 2\\nSkipping line 75: expected 1 fields, saw 2\\nSkipping line 77: expected 1 fields, saw 2\\nSkipping line 80: expected 1 fields, saw 2\\nSkipping line 81: expected 1 fields, saw 2\\nSkipping line 87: expected 1 fields, saw 2\\nSkipping line 93: expected 1 fields, saw 4\\nSkipping line 99: expected 1 fields, saw 2\\nSkipping line 104: expected 1 fields, saw 2\\nSkipping line 183: expected 1 fields, saw 2\\nSkipping line 184: expected 1 fields, saw 2\\nSkipping line 192: expected 1 fields, saw 2\\nSkipping line 208: expected 1 fields, saw 2\\nSkipping line 250: expected 1 fields, saw 2\\nSkipping line 266: expected 1 fields, saw 2\\nSkipping line 275: expected 1 fields, saw 3\\n'\n"
     ]
    }
   ],
   "source": [
    "building_benchmark_df = pd.read_csv(Chicago_Building_Benchmark)\n",
    "chicago_pop_df = pd.read_csv(Chicago_Population)\n",
    "energy_usage_df = pd.read_csv(Energy_Usage)\n",
    "illinois_pop_df = pd.read_csv(Illinois_Population, error_bad_lines=False)"
   ]
  },
  {
   "cell_type": "code",
   "execution_count": null,
   "metadata": {},
   "outputs": [],
   "source": [
    "illinois_pop_df.head()"
   ]
  },
  {
   "cell_type": "code",
   "execution_count": null,
   "metadata": {},
   "outputs": [],
   "source": []
  }
 ],
 "metadata": {
  "kernelspec": {
   "display_name": "Python 3",
   "language": "python",
   "name": "python3"
  },
  "language_info": {
   "codemirror_mode": {
    "name": "ipython",
    "version": 3
   },
   "file_extension": ".py",
   "mimetype": "text/x-python",
   "name": "python",
   "nbconvert_exporter": "python",
   "pygments_lexer": "ipython3",
   "version": "3.8.3"
  }
 },
 "nbformat": 4,
 "nbformat_minor": 4
}
